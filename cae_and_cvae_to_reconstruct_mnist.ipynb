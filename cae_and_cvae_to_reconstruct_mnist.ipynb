{
 "cells": [
  {
   "cell_type": "markdown",
   "metadata": {
    "colab_type": "text",
    "id": "toJwYNrysAss"
   },
   "source": [
    "# CAE and CVAE to Reconstruct MNIST"
   ]
  },
  {
   "cell_type": "markdown",
   "metadata": {
    "colab_type": "text",
    "id": "cJBMrjcFsAsv"
   },
   "source": [
    "## Introduction\n",
    "\n",
    "In this exercise, you will develop and experiment with convolutional AEs (CAE) and VAEs (CVAE).\n",
    "You will be asked to:\n",
    "\n",
    "- experiment with the architectures and compare the convolutional models to the fully connected ones. \n",
    "- investigate and implement sampling and interpolation in the latent space."
   ]
  },
  {
   "cell_type": "code",
   "execution_count": 0,
   "metadata": {
    "colab": {},
    "colab_type": "code",
    "id": "DjzqfKV-sAsy"
   },
   "outputs": [],
   "source": [
    "import os\n",
    "os.chdir(\"drive/Colab Notebooks/\")\n",
    "import torch\n",
    "import torch.nn as nn\n",
    "import torch.optim as optim\n",
    "from torch.utils.data import DataLoader\n",
    "from torchvision import datasets, transforms\n",
    "from torchvision.utils import save_image \n",
    "import torch.nn.functional as F\n",
    "from utils import *\n",
    "import matplotlib.pyplot as plt\n",
    "import numpy as np\n",
    "\n",
    "from utils import denorm_for_tanh, denorm_for_sigmoid"
   ]
  },
  {
   "cell_type": "markdown",
   "metadata": {
    "colab_type": "text",
    "id": "04j6b8eJsAs5"
   },
   "source": [
    "### Device selection"
   ]
  },
  {
   "cell_type": "code",
   "execution_count": 0,
   "metadata": {
    "colab": {
     "base_uri": "https://localhost:8080/",
     "height": 34
    },
    "colab_type": "code",
    "id": "Mtx3lt0SsAs7",
    "outputId": "5ec52826-aedd-49df-d944-e85638d1308e"
   },
   "outputs": [
    {
     "name": "stdout",
     "output_type": "stream",
     "text": [
      "cuda:0\n"
     ]
    }
   ],
   "source": [
    "GPU = True\n",
    "device_idx = 0\n",
    "if GPU:\n",
    "    device = torch.device(\"cuda:\"+str(device_idx) if torch.cuda.is_available() else \"cpu\")\n",
    "else:\n",
    "    \n",
    "    device = torch.device(\"cpu\")\n",
    "print(device)"
   ]
  },
  {
   "cell_type": "markdown",
   "metadata": {
    "colab_type": "text",
    "id": "SlChBs_OsAs-"
   },
   "source": [
    "### Reproducibility"
   ]
  },
  {
   "cell_type": "code",
   "execution_count": 0,
   "metadata": {
    "colab": {
     "base_uri": "https://localhost:8080/",
     "height": 34
    },
    "colab_type": "code",
    "id": "3OrmIPvXsAs_",
    "outputId": "00da08e7-3ae1-4c1c-f22f-283275cade03"
   },
   "outputs": [
    {
     "data": {
      "text/plain": [
       "<torch._C.Generator at 0x7f4c26bbd0d0>"
      ]
     },
     "execution_count": 4,
     "metadata": {
      "tags": []
     },
     "output_type": "execute_result"
    }
   ],
   "source": [
    "# We set a random seed to ensure that your results are reproducible.\n",
    "if torch.cuda.is_available():\n",
    "    torch.backends.cudnn.deterministic = True\n",
    "torch.manual_seed(0)"
   ]
  },
  {
   "cell_type": "markdown",
   "metadata": {
    "colab_type": "text",
    "id": "SorPPi_AsAtF"
   },
   "source": [
    "## Part 1 - CAE"
   ]
  },
  {
   "cell_type": "markdown",
   "metadata": {
    "colab_type": "text",
    "id": "hyGk1zKIsAtG"
   },
   "source": [
    "### Normalization: \n",
    "$ x_{norm} = \\frac{x-\\mu}{\\sigma} $\n",
    "\n",
    "_Thus_ :\n",
    "$ \\min{x_{norm}} = \\frac{\\min{(x)}-\\mu}{\\sigma} = \\frac{0-0.5}{0.5} = -1 $\n",
    "\n",
    "_Similarly_:\n",
    "\n",
    "$ \\max{(x_{norm})} = ... = 1 $\n",
    "\n",
    "\n",
    "* Input $\\in [-1,1] $\n",
    "* Output should span the same interval $ \\rightarrow$ Activation function of the output layer should be chosen carfeully (Here??)"
   ]
  },
  {
   "cell_type": "code",
   "execution_count": 0,
   "metadata": {
    "colab": {},
    "colab_type": "code",
    "id": "yQNGU-XUsAtH"
   },
   "outputs": [],
   "source": [
    "transform = transforms.Compose([\n",
    "     transforms.ToTensor(),\n",
    "     transforms.Normalize((0.5, 0.5, 0.5), (0.5, 0.5, 0.5))\n",
    "])\n",
    "\n",
    "denorm = denorm_for_tanh\n",
    "\n",
    "train_dat = datasets.MNIST(\n",
    "    \"data/\", train=True, download=True, transform=transform\n",
    ")\n",
    "test_dat = datasets.MNIST(\"data/\", train=False, transform=transform)"
   ]
  },
  {
   "cell_type": "markdown",
   "metadata": {
    "colab_type": "text",
    "id": "xrnlnXorsAtJ"
   },
   "source": [
    "### Hyper-parameter selection"
   ]
  },
  {
   "cell_type": "code",
   "execution_count": 0,
   "metadata": {
    "colab": {},
    "colab_type": "code",
    "id": "THSEmVbrsAtJ"
   },
   "outputs": [],
   "source": [
    "if not os.path.exists('./CAE'):\n",
    "    os.mkdir('./CAE')\n",
    "    \n",
    "num_epochs = 20\n",
    "batch_size = 128\n",
    "learning_rate = 1e-3"
   ]
  },
  {
   "cell_type": "markdown",
   "metadata": {
    "colab_type": "text",
    "id": "_aTlWynSsAtL"
   },
   "source": [
    "### Define the dataloaders"
   ]
  },
  {
   "cell_type": "code",
   "execution_count": 0,
   "metadata": {
    "colab": {},
    "colab_type": "code",
    "id": "20dJU3f0sAtM"
   },
   "outputs": [],
   "source": [
    "train_loader = DataLoader(train_dat, batch_size, shuffle=True)\n",
    "test_loader = DataLoader(test_dat, batch_size, shuffle=False)\n",
    "\n",
    "it = iter(test_loader)\n",
    "sample_inputs, _ = next(it)\n",
    "fixed_input = sample_inputs[:32, :, :, :]\n",
    "\n",
    "in_dim = fixed_input.shape[-1]*fixed_input.shape[-2]\n",
    "\n",
    "save_image(fixed_input, './CAE/image_original.png')"
   ]
  },
  {
   "cell_type": "markdown",
   "metadata": {
    "colab_type": "text",
    "id": "cg6pgVh6sAtN"
   },
   "source": [
    "### Define the model - CAE\n",
    "\n",
    "Complete the `encoder` and `decoder` methods in the CAE pipeline.\n",
    "\n",
    "To find an effective architecture, you can experiment with the following:\n",
    "- the number of convolutional layers\n",
    "- the kernels' sizes\n",
    "- the stride values\n",
    "- the size of the latent space layer"
   ]
  },
  {
   "cell_type": "code",
   "execution_count": 0,
   "metadata": {
    "colab": {},
    "colab_type": "code",
    "id": "0oY9nLU2sAtO"
   },
   "outputs": [],
   "source": [
    "class CAE(nn.Module):\n",
    "    def __init__(self, latent_dim):\n",
    "        super(CAE, self).__init__()\n",
    "        \"\"\"\n",
    "        Define here the layers (convolutions, relu etc.) that will be\n",
    "        used in the encoder and decoder pipelines.\n",
    "        \"\"\"\n",
    "        self.encoder = nn.Sequential(\n",
    "            nn.Conv2d(in_channels=1, out_channels=3, kernel_size=3, stride=1, padding=0),\n",
    "            nn.BatchNorm2d(3),\n",
    "            nn.ReLU(inplace = True),\n",
    "            nn.Conv2d(in_channels=3, out_channels=3, kernel_size=3, stride=1, padding=0),\n",
    "            nn.BatchNorm2d(3),\n",
    "            nn.ReLU(inplace=True),\n",
    "            nn.Conv2d(in_channels=3, out_channels=1, kernel_size=3, stride=1, padding=0),\n",
    "        )\n",
    "        self.decoder = nn.Sequential(\n",
    "            nn.ConvTranspose2d(in_channels=1, out_channels=3, kernel_size=3, stride=1, padding=0),\n",
    "            nn.BatchNorm2d(3),\n",
    "            nn.ReLU(inplace=True),\n",
    "            nn.ConvTranspose2d(in_channels=3, out_channels=3, kernel_size=3,stride=1, padding=0),\n",
    "            nn.BatchNorm2d(3),\n",
    "            nn.ReLU(inplace=True),\n",
    "            nn.ConvTranspose2d(in_channels=3, out_channels=1, kernel_size=3, stride=1, padding=0),\n",
    "            nn.Tanh(),\n",
    "        )\n",
    "        self.fc1 = nn.Linear(in_features=1*(fixed_input.shape[-2]-6)*(fixed_input.shape[-1]-6), out_features=latent_dim)\n",
    "        self.fc2 = nn.Linear(in_features=latent_dim, out_features=1*(fixed_input.shape[-2]-6)*(fixed_input.shape[-1]-6))\n",
    "        \n",
    "        \n",
    "        \n",
    "    def encode(self, x):\n",
    "        \"\"\"\n",
    "        Construct the encoder pipeline here. The encoder's\n",
    "        output will be the laten space representation of x.\n",
    "        \n",
    "        \"\"\"\n",
    "        x = self.encoder(x)\n",
    "        x = x.view(x.size(0),-1)\n",
    "        x = self.fc1(x)\n",
    "        return x\n",
    "    \n",
    "    def decode(self, z):\n",
    "        \"\"\"\n",
    "        Construct the decoder pipeline here. The decoder should \n",
    "        generate an output tensor with equal dimenssions to the\n",
    "        encoder's input tensor.\n",
    "        \n",
    "        \"\"\"\n",
    "        z = self.fc2(z)\n",
    "        z = z.view(z.size(0),1,fixed_input.shape[-2]-6,fixed_input.shape[-1]-6)\n",
    "        z = self.decoder(z)\n",
    "        return z\n",
    "\n",
    "    def forward(self, x):\n",
    "        x = self.encode(x)\n",
    "        x = self.decode(x)\n",
    "        return x"
   ]
  },
  {
   "cell_type": "code",
   "execution_count": 0,
   "metadata": {
    "colab": {},
    "colab_type": "code",
    "id": "LZF3d3_0sAtQ"
   },
   "outputs": [],
   "source": [
    "# Instantiate the model\n",
    "latent_dim = 144\n",
    "cv_AE = CAE(latent_dim=latent_dim)"
   ]
  },
  {
   "cell_type": "markdown",
   "metadata": {
    "colab_type": "text",
    "id": "eFhH9sk1sAtR"
   },
   "source": [
    "### Define Loss function"
   ]
  },
  {
   "cell_type": "code",
   "execution_count": 0,
   "metadata": {
    "colab": {},
    "colab_type": "code",
    "id": "oR6oC03WsAtS"
   },
   "outputs": [],
   "source": [
    "criterion = nn.L1Loss(reduction='sum')  # can we use any other loss here?\n",
    "def loss_function_CAE(recon_x, x):\n",
    "    recon_loss = criterion(recon_x, x)\n",
    "    return recon_loss"
   ]
  },
  {
   "cell_type": "markdown",
   "metadata": {
    "colab_type": "text",
    "id": "aTIGb7kXsAtT"
   },
   "source": [
    "### Initialize Model and print number of parameters"
   ]
  },
  {
   "cell_type": "code",
   "execution_count": 0,
   "metadata": {
    "colab": {
     "base_uri": "https://localhost:8080/",
     "height": 425
    },
    "colab_type": "code",
    "id": "ZFbf1Iq2sAtU",
    "outputId": "8c606b62-1d76-4d9f-f7f9-5d0f130f739b"
   },
   "outputs": [
    {
     "name": "stdout",
     "output_type": "stream",
     "text": [
      "Total number of parameters is: 140328\n",
      "CAE(\n",
      "  (encoder): Sequential(\n",
      "    (0): Conv2d(1, 3, kernel_size=(3, 3), stride=(1, 1))\n",
      "    (1): BatchNorm2d(3, eps=1e-05, momentum=0.1, affine=True, track_running_stats=True)\n",
      "    (2): ReLU(inplace)\n",
      "    (3): Conv2d(3, 3, kernel_size=(3, 3), stride=(1, 1))\n",
      "    (4): BatchNorm2d(3, eps=1e-05, momentum=0.1, affine=True, track_running_stats=True)\n",
      "    (5): ReLU(inplace)\n",
      "    (6): Conv2d(3, 1, kernel_size=(3, 3), stride=(1, 1))\n",
      "  )\n",
      "  (decoder): Sequential(\n",
      "    (0): ConvTranspose2d(1, 3, kernel_size=(3, 3), stride=(1, 1))\n",
      "    (1): BatchNorm2d(3, eps=1e-05, momentum=0.1, affine=True, track_running_stats=True)\n",
      "    (2): ReLU(inplace)\n",
      "    (3): ConvTranspose2d(3, 3, kernel_size=(3, 3), stride=(1, 1))\n",
      "    (4): BatchNorm2d(3, eps=1e-05, momentum=0.1, affine=True, track_running_stats=True)\n",
      "    (5): ReLU(inplace)\n",
      "    (6): ConvTranspose2d(3, 1, kernel_size=(3, 3), stride=(1, 1))\n",
      "    (7): Tanh()\n",
      "  )\n",
      "  (fc1): Linear(in_features=484, out_features=144, bias=True)\n",
      "  (fc2): Linear(in_features=144, out_features=484, bias=True)\n",
      ")\n"
     ]
    }
   ],
   "source": [
    "model = cv_AE.to(device)\n",
    "params = sum(p.numel() for p in model.parameters() if p.requires_grad)\n",
    "print(\"Total number of parameters is: {}\".format(params))  # what would the number actually be?\n",
    "print(model)"
   ]
  },
  {
   "cell_type": "markdown",
   "metadata": {
    "colab_type": "text",
    "id": "cwEYJXiZsAtW"
   },
   "source": [
    "### Choose and initialize optimizer"
   ]
  },
  {
   "cell_type": "code",
   "execution_count": 0,
   "metadata": {
    "colab": {},
    "colab_type": "code",
    "id": "GuHVkOtDsAtW"
   },
   "outputs": [],
   "source": [
    "optimizer = torch.optim.Adam(model.parameters(), lr=learning_rate)"
   ]
  },
  {
   "cell_type": "markdown",
   "metadata": {
    "colab_type": "text",
    "id": "AZ9SMit4sAtX"
   },
   "source": [
    "### Train"
   ]
  },
  {
   "cell_type": "code",
   "execution_count": 0,
   "metadata": {
    "colab": {
     "base_uri": "https://localhost:8080/",
     "height": 357
    },
    "colab_type": "code",
    "id": "Ny-Fg5sIsAtY",
    "outputId": "b5a9b8f9-feb5-41b3-cb37-6767536c518b",
    "scrolled": true
   },
   "outputs": [
    {
     "name": "stdout",
     "output_type": "stream",
     "text": [
      "epoch [1/20], loss:192.6586\n",
      "epoch [2/20], loss:105.1258\n",
      "epoch [3/20], loss:70.8323\n",
      "epoch [4/20], loss:50.1407\n",
      "epoch [5/20], loss:39.1389\n",
      "epoch [6/20], loss:32.7772\n",
      "epoch [7/20], loss:28.7359\n",
      "epoch [8/20], loss:25.9221\n",
      "epoch [9/20], loss:23.7346\n",
      "epoch [10/20], loss:22.3031\n",
      "epoch [11/20], loss:21.3493\n",
      "epoch [12/20], loss:20.7182\n",
      "epoch [13/20], loss:20.1161\n",
      "epoch [14/20], loss:19.7955\n",
      "epoch [15/20], loss:19.3143\n",
      "epoch [16/20], loss:18.9739\n",
      "epoch [17/20], loss:18.6636\n",
      "epoch [18/20], loss:18.4126\n",
      "epoch [19/20], loss:18.1286\n",
      "epoch [20/20], loss:17.8232\n"
     ]
    }
   ],
   "source": [
    "model.train()\n",
    "\n",
    "for epoch in range(num_epochs):\n",
    "    train_loss = 0\n",
    "    for batch_idx, data in enumerate(train_loader):\n",
    "        img, _ = data\n",
    "        img = img.to(device)\n",
    "        optimizer.zero_grad()\n",
    "        # forward\n",
    "        recon_batch = model(img)\n",
    "        loss = loss_function_CAE(recon_batch, img)\n",
    "        # backward\n",
    "        loss.backward()\n",
    "        train_loss += loss.item()\n",
    "        optimizer.step()\n",
    "    # print out losses and save reconstructions for every epoch\n",
    "    print('epoch [{}/{}], loss:{:.4f}'.format(epoch + 1, num_epochs, train_loss / len(train_loader.dataset)))\n",
    "    recon = denorm(model(fixed_input.to(device)))\n",
    "    save_image(recon, './CAE/reconstructed_epoch_{}.png'.format(epoch))\n",
    "\n",
    "# save the model\n",
    "torch.save(model.state_dict(), './CAE/model.pth')"
   ]
  },
  {
   "cell_type": "markdown",
   "metadata": {
    "colab_type": "text",
    "id": "2WobXx9vsAtZ"
   },
   "source": [
    "### Test"
   ]
  },
  {
   "cell_type": "code",
   "execution_count": 0,
   "metadata": {
    "colab": {
     "base_uri": "https://localhost:8080/",
     "height": 34
    },
    "colab_type": "code",
    "id": "NFxraa20sAta",
    "outputId": "8187cf14-0fbf-4fb5-8267-4a9c05cd9116"
   },
   "outputs": [
    {
     "name": "stdout",
     "output_type": "stream",
     "text": [
      "Test set loss: 18.2061\n"
     ]
    }
   ],
   "source": [
    "# load the model\n",
    "model.load_state_dict(torch.load(\"./CAE/model.pth\"))\n",
    "model.eval()\n",
    "test_loss = 0\n",
    "with torch.no_grad():\n",
    "    for i, (img, _) in enumerate(test_loader):\n",
    "        img = img.to(device)\n",
    "        recon_batch = model(img)\n",
    "        test_loss += loss_function_CAE(recon_batch, img)\n",
    "    # reconstruct and save the last batch\n",
    "    recon_batch = model(recon_batch.to(device))\n",
    "    img = denorm(img.cpu())\n",
    "    # save the original last batch\n",
    "    save_image(img, './CAE/test_original.png')\n",
    "    save_image(denorm(recon_batch.cpu()), './CAE/reconstructed_test.png')\n",
    "    # loss calculated over the whole test set\n",
    "    test_loss /= len(test_loader.dataset)\n",
    "    print('Test set loss: {:.4f}'.format(test_loss))"
   ]
  },
  {
   "cell_type": "markdown",
   "metadata": {
    "colab_type": "text",
    "id": "V-9PNIwQsAtb"
   },
   "source": [
    "### Interpolations"
   ]
  },
  {
   "cell_type": "code",
   "execution_count": 0,
   "metadata": {
    "colab": {},
    "colab_type": "code",
    "id": "9-3jhXL4sAtb"
   },
   "outputs": [],
   "source": [
    "# Define inpute tensors\n",
    "x1 = fixed_input[3:4,:,:,:].to(device)\n",
    "x2 = fixed_input[4:5,:,:,:].to(device)\n",
    "\n",
    "# Create the latent representations\n",
    "z1 = model.encode(x1)\n",
    "z2 = model.encode(x2)\n",
    "\n",
    "\"\"\"\n",
    "Find a way to create interpolated results from the CAE.\n",
    "\"\"\"\n",
    "interpolate = 16\n",
    "step = (z2 - z1)/interpolate\n",
    "Z = torch.zeros(interpolate, latent_dim).to(device)\n",
    "\n",
    "for i in range(interpolate):\n",
    "    Z[i, :] = z1 + i*step\n",
    "X_hat = model.decode(Z)\n",
    "save_image(X_hat, './CAE/inter.png')"
   ]
  },
  {
   "cell_type": "markdown",
   "metadata": {
    "colab_type": "text",
    "id": "vaa1RQytsAtd"
   },
   "source": [
    "## Part 2 - CVAE"
   ]
  },
  {
   "cell_type": "markdown",
   "metadata": {
    "colab_type": "text",
    "id": "RVJ8jlU_sAtd"
   },
   "source": [
    "### Normalization"
   ]
  },
  {
   "cell_type": "code",
   "execution_count": 0,
   "metadata": {
    "colab": {},
    "colab_type": "code",
    "id": "fR__zE1zsAte"
   },
   "outputs": [],
   "source": [
    "transform = transforms.Compose([\n",
    "     transforms.ToTensor(),\n",
    "     #transforms.Normalize((0.5, 0.5, 0.5), (0.5, 0.5, 0.5))\n",
    "])\n",
    "\n",
    "denorm = denorm_for_sigmoid\n",
    "\n",
    "train_dat = datasets.MNIST(\n",
    "    \"data/\", train=True, download=True, transform=transform\n",
    ")\n",
    "test_dat = datasets.MNIST(\"data/\", train=False, transform=transform)"
   ]
  },
  {
   "cell_type": "markdown",
   "metadata": {
    "colab_type": "text",
    "id": "d41z4ludsAtg"
   },
   "source": [
    "### Hyper-parameter selection"
   ]
  },
  {
   "cell_type": "code",
   "execution_count": 0,
   "metadata": {
    "colab": {},
    "colab_type": "code",
    "id": "bqHEOW9qsAth"
   },
   "outputs": [],
   "source": [
    "if not os.path.exists('./CVAE'):\n",
    "    os.mkdir('./CVAE')\n",
    "    \n",
    "num_epochs = 20\n",
    "batch_size = 128\n",
    "learning_rate = 1e-3"
   ]
  },
  {
   "cell_type": "markdown",
   "metadata": {
    "colab_type": "text",
    "id": "FrFDcUIIsAtj"
   },
   "source": [
    "### Define the dataloaders"
   ]
  },
  {
   "cell_type": "code",
   "execution_count": 0,
   "metadata": {
    "colab": {},
    "colab_type": "code",
    "id": "hTmJXKZPsAtk"
   },
   "outputs": [],
   "source": [
    "train_loader = DataLoader(train_dat, batch_size, shuffle=True)\n",
    "test_loader = DataLoader(test_dat, batch_size, shuffle=False)\n",
    "\n",
    "it = iter(test_loader)\n",
    "sample_inputs, _ = next(it)\n",
    "fixed_input = sample_inputs[:32, :, :, :]\n",
    "\n",
    "in_dim = fixed_input.shape[-1]*fixed_input.shape[-2]\n",
    "\n",
    "save_image(fixed_input, './CVAE/image_original.png')"
   ]
  },
  {
   "cell_type": "markdown",
   "metadata": {
    "colab_type": "text",
    "id": "8NIBAEQKsAtm"
   },
   "source": [
    "### Define the model - CVAE\n",
    "\n",
    "Complete the `encoder` and `decoder` methods in the CVAE pipeline.\n",
    "\n",
    "To find an effective architecture, you can experiment with the following:\n",
    "- the number of convolutional layers\n",
    "- the kernels' sizes\n",
    "- the stride values\n",
    "- the size of the latent space layer"
   ]
  },
  {
   "cell_type": "code",
   "execution_count": 0,
   "metadata": {
    "colab": {},
    "colab_type": "code",
    "id": "HxgLODpisAtm"
   },
   "outputs": [],
   "source": [
    "class CVAE(nn.Module):\n",
    "    def __init__(self, latent_dim):\n",
    "        super(CVAE, self).__init__()\n",
    "        \"\"\"\n",
    "        Define here the layers (convolutions, relu etc.) that will be\n",
    "        used in the encoder and decoder pipelines.\n",
    "        \"\"\"\n",
    "        self.encoder = nn.Sequential(\n",
    "            nn.Conv2d(in_channels=1, out_channels=3, kernel_size=3, stride=1, padding=0),\n",
    "            nn.BatchNorm2d(3),\n",
    "            nn.ReLU(inplace = True),\n",
    "            nn.Conv2d(in_channels=3, out_channels=1, kernel_size=3, stride=1, padding=0),\n",
    "        )\n",
    "        self.decoder = nn.Sequential(\n",
    "            nn.ConvTranspose2d(in_channels=1, out_channels=3, kernel_size=3, stride=1, padding=0),\n",
    "            nn.BatchNorm2d(3),\n",
    "            nn.ReLU(inplace=True),\n",
    "            nn.ConvTranspose2d(in_channels=3, out_channels=1, kernel_size=3, stride=1, padding=0),\n",
    "            nn.Sigmoid(),\n",
    "        )\n",
    "        self.fc_mu = nn.Linear(in_features=1*(fixed_input.shape[-2]-4)*(fixed_input.shape[-1]-4), out_features=latent_dim)\n",
    "        self.fc_var = nn.Linear(in_features=1*(fixed_input.shape[-2]-4)*(fixed_input.shape[-1]-4), out_features=latent_dim)\n",
    "        self.fc = nn.Linear(in_features=latent_dim, out_features=1*(fixed_input.shape[-2]-4)*(fixed_input.shape[-1]-4))\n",
    "        \n",
    "    def encode(self, x):\n",
    "        \"\"\"\n",
    "        Construct the encoder pipeline here.        \n",
    "        \"\"\"\n",
    "        x = self.encoder(x)\n",
    "        x = x.view(x.size(0),-1)\n",
    "        mu = self.fc_mu(x)\n",
    "        logvar = self.fc_var(x)\n",
    "        return mu, logvar\n",
    "\n",
    "    def reparametrize(self, mu, logvar):\n",
    "        \"\"\"\n",
    "        Implement reparameterization here.\n",
    "        \"\"\"\n",
    "        std = torch.exp(0.5*logvar)\n",
    "        eps = torch.randn_like(std)\n",
    "        z = eps*std+mu\n",
    "        return z\n",
    "\n",
    "    def decode(self, z):\n",
    "        \"\"\"\n",
    "        Construct the decoder pipeline here.        \n",
    "        \"\"\"\n",
    "        z = self.fc(z)\n",
    "        z = z.view(z.size(0), 1, fixed_input.shape[-2]-4, fixed_input.shape[-1]-4)\n",
    "        z = self.decoder(z)\n",
    "        return z\n",
    " \n",
    "    def forward(self, x):\n",
    "        mu, logvar = self.encode(x)\n",
    "        z = self.reparametrize(mu, logvar)\n",
    "        x_hat = self.decode(z)\n",
    "        return x_hat, mu, logvar"
   ]
  },
  {
   "cell_type": "code",
   "execution_count": 0,
   "metadata": {
    "colab": {},
    "colab_type": "code",
    "id": "-XsVg_aEsAto"
   },
   "outputs": [],
   "source": [
    "# Instantiate the model\n",
    "latent_dim = 144\n",
    "cv_VAE = CVAE(latent_dim =latent_dim)"
   ]
  },
  {
   "cell_type": "markdown",
   "metadata": {
    "colab_type": "text",
    "id": "2c7mP9K3sAtp"
   },
   "source": [
    "### Define Loss function"
   ]
  },
  {
   "cell_type": "code",
   "execution_count": 0,
   "metadata": {
    "colab": {},
    "colab_type": "code",
    "id": "xxkQ9SdjsAtp"
   },
   "outputs": [],
   "source": [
    "# Reconstruction + KL divergence losses summed over all elements and batch\n",
    "def loss_function_VAE(recon_x, x, mu, logvar):\n",
    "    BCE = F.binary_cross_entropy(recon_x, x, size_average=False)\n",
    "    KLD = -0.5 * torch.sum(1 + logvar - mu.pow(2) - logvar.exp())\n",
    "    return BCE + KLD"
   ]
  },
  {
   "cell_type": "markdown",
   "metadata": {
    "colab_type": "text",
    "id": "nWirnrkIsAtq"
   },
   "source": [
    "### Initialize Model and print number of parameters"
   ]
  },
  {
   "cell_type": "code",
   "execution_count": 0,
   "metadata": {
    "colab": {
     "base_uri": "https://localhost:8080/",
     "height": 340
    },
    "colab_type": "code",
    "id": "prqdf-IAsAtq",
    "outputId": "40044122-87c7-4da1-e09d-036d3e027351"
   },
   "outputs": [
    {
     "name": "stdout",
     "output_type": "stream",
     "text": [
      "Total number of parameters is: 249824\n",
      "CVAE(\n",
      "  (encoder): Sequential(\n",
      "    (0): Conv2d(1, 3, kernel_size=(3, 3), stride=(1, 1))\n",
      "    (1): BatchNorm2d(3, eps=1e-05, momentum=0.1, affine=True, track_running_stats=True)\n",
      "    (2): ReLU(inplace)\n",
      "    (3): Conv2d(3, 1, kernel_size=(3, 3), stride=(1, 1))\n",
      "  )\n",
      "  (decoder): Sequential(\n",
      "    (0): ConvTranspose2d(1, 3, kernel_size=(3, 3), stride=(1, 1))\n",
      "    (1): BatchNorm2d(3, eps=1e-05, momentum=0.1, affine=True, track_running_stats=True)\n",
      "    (2): ReLU(inplace)\n",
      "    (3): ConvTranspose2d(3, 1, kernel_size=(3, 3), stride=(1, 1))\n",
      "    (4): Sigmoid()\n",
      "  )\n",
      "  (fc_mu): Linear(in_features=576, out_features=144, bias=True)\n",
      "  (fc_var): Linear(in_features=576, out_features=144, bias=True)\n",
      "  (fc): Linear(in_features=144, out_features=576, bias=True)\n",
      ")\n"
     ]
    }
   ],
   "source": [
    "model = cv_VAE.to(device)\n",
    "params = sum(p.numel() for p in model.parameters() if p.requires_grad)\n",
    "print(\"Total number of parameters is: {}\".format(params))  # what would the number actually be?\n",
    "print(model)"
   ]
  },
  {
   "cell_type": "markdown",
   "metadata": {
    "colab_type": "text",
    "id": "zdPJR4yksAts"
   },
   "source": [
    "### Choose and initialize optimizer"
   ]
  },
  {
   "cell_type": "code",
   "execution_count": 0,
   "metadata": {
    "colab": {},
    "colab_type": "code",
    "id": "Rid6TLDisAts"
   },
   "outputs": [],
   "source": [
    "optimizer = torch.optim.Adam(model.parameters(), lr=learning_rate)"
   ]
  },
  {
   "cell_type": "markdown",
   "metadata": {
    "colab_type": "text",
    "id": "flS8VStzsAtt"
   },
   "source": [
    "### Train"
   ]
  },
  {
   "cell_type": "code",
   "execution_count": 0,
   "metadata": {
    "colab": {
     "base_uri": "https://localhost:8080/",
     "height": 511
    },
    "colab_type": "code",
    "id": "7LVlYWa8sAtt",
    "outputId": "6be59d0d-678a-49cb-a773-60a8e58cb53c",
    "scrolled": true
   },
   "outputs": [
    {
     "name": "stderr",
     "output_type": "stream",
     "text": [
      "/usr/local/lib/python3.6/dist-packages/torch/nn/_reduction.py:49: UserWarning: size_average and reduce args will be deprecated, please use reduction='sum' instead.\n",
      "  warnings.warn(warning.format(ret))\n"
     ]
    },
    {
     "name": "stdout",
     "output_type": "stream",
     "text": [
      "epoch [1/20], loss:275.4623\n",
      "epoch [2/20], loss:161.1067\n",
      "epoch [3/20], loss:145.2654\n",
      "epoch [4/20], loss:138.1768\n",
      "epoch [5/20], loss:133.2514\n",
      "epoch [6/20], loss:129.4952\n",
      "epoch [7/20], loss:126.5332\n",
      "epoch [8/20], loss:124.1339\n",
      "epoch [9/20], loss:122.2564\n",
      "epoch [10/20], loss:120.7838\n",
      "epoch [11/20], loss:119.6233\n",
      "epoch [12/20], loss:118.6610\n",
      "epoch [13/20], loss:117.9335\n",
      "epoch [14/20], loss:117.2908\n",
      "epoch [15/20], loss:116.6565\n",
      "epoch [16/20], loss:116.0496\n",
      "epoch [17/20], loss:115.4741\n",
      "epoch [18/20], loss:115.0195\n",
      "epoch [19/20], loss:114.6422\n",
      "epoch [20/20], loss:114.4216\n"
     ]
    }
   ],
   "source": [
    "model.train()\n",
    "\n",
    "for epoch in range(num_epochs):\n",
    "    train_loss = 0\n",
    "    for batch_idx, data in enumerate(train_loader):\n",
    "        img, _ = data\n",
    "        img = img.to(device)\n",
    "        optimizer.zero_grad()\n",
    "        # forward\n",
    "        recon_batch, mu, logvar = model(img)\n",
    "        loss = loss_function_VAE(recon_batch, img, mu, logvar)\n",
    "        # backward\n",
    "        loss.backward()\n",
    "        train_loss += loss.item()\n",
    "        optimizer.step()\n",
    "    # print out losses and save reconstructions for every epoch\n",
    "    print('epoch [{}/{}], loss:{:.4f}'.format(epoch + 1, num_epochs, train_loss / len(train_loader.dataset)))\n",
    "    recon, _, _ = model(fixed_input.to(device))\n",
    "    recon = denorm(recon.to(device))\n",
    "    save_image(recon, './CVAE/reconstructed_epoch_{}.png'.format(epoch))\n",
    "\n",
    "# save the model\n",
    "torch.save(model.state_dict(), './CVAE/model.pth')"
   ]
  },
  {
   "cell_type": "markdown",
   "metadata": {
    "colab_type": "text",
    "id": "zu6gCncisAtv"
   },
   "source": [
    "### Test"
   ]
  },
  {
   "cell_type": "code",
   "execution_count": 0,
   "metadata": {
    "colab": {
     "base_uri": "https://localhost:8080/",
     "height": 131
    },
    "colab_type": "code",
    "id": "FWEoOua8sAtv",
    "outputId": "86f8abe3-f1fc-4e7f-cda1-64df53138ed4"
   },
   "outputs": [
    {
     "name": "stderr",
     "output_type": "stream",
     "text": [
      "/usr/local/lib/python3.6/dist-packages/torch/nn/_reduction.py:49: UserWarning: size_average and reduce args will be deprecated, please use reduction='sum' instead.\n",
      "  warnings.warn(warning.format(ret))\n"
     ]
    },
    {
     "name": "stdout",
     "output_type": "stream",
     "text": [
      "Test set loss: 113.3263\n"
     ]
    }
   ],
   "source": [
    "# load the model\n",
    "model.load_state_dict(torch.load(\"./CVAE/model.pth\"))\n",
    "model.eval()\n",
    "test_loss = 0\n",
    "with torch.no_grad():\n",
    "    for i, (img, _) in enumerate(test_loader):\n",
    "        img = img.to(device)\n",
    "        recon_batch, mu, logvar = model(img)\n",
    "        test_loss += loss_function_VAE(recon_batch, img, mu, logvar)\n",
    "    # reconstruct and save the last batch\n",
    "    recon_batch, _, _= model(recon_batch.to(device))\n",
    "    img = denorm(img.cpu())\n",
    "    # save the original last batch\n",
    "    save_image(img, './CVAE/test_original.png')\n",
    "    save_image(denorm(recon_batch.cpu()), './CVAE/reconstructed_test.png')\n",
    "    # loss calculated over the whole test set\n",
    "    test_loss /= len(test_loader.dataset)\n",
    "    print('Test set loss: {:.4f}'.format(test_loss))"
   ]
  },
  {
   "cell_type": "markdown",
   "metadata": {
    "colab_type": "text",
    "id": "BanYzhgJsAtw"
   },
   "source": [
    "### Sample"
   ]
  },
  {
   "cell_type": "markdown",
   "metadata": {
    "colab_type": "text",
    "id": "iuDwRHC1sAtx"
   },
   "source": [
    "Sample the latent space and use the `decoder` to generate resutls."
   ]
  },
  {
   "cell_type": "code",
   "execution_count": 0,
   "metadata": {
    "colab": {},
    "colab_type": "code",
    "id": "NMajlWljsAtx"
   },
   "outputs": [],
   "source": [
    "model.load_state_dict(torch.load(\"./CVAE/model.pth\"))\n",
    "model.eval()\n",
    "n_samples = 32\n",
    "with torch.no_grad():\n",
    "    \"\"\"\n",
    "    Investigate how to sample the latent space of the CVAE.\n",
    "    \"\"\"\n",
    "    z = torch.randn(n_samples, latent_dim).to(device)\n",
    "    sample = model.decode(z)\n",
    "    save_image(denorm(sample).cpu(), './CVAE/samples_' + '.png')"
   ]
  },
  {
   "cell_type": "markdown",
   "metadata": {
    "colab_type": "text",
    "id": "qGaZTly-sAty"
   },
   "source": [
    "### Interpolations"
   ]
  },
  {
   "cell_type": "code",
   "execution_count": 0,
   "metadata": {
    "colab": {},
    "colab_type": "code",
    "id": "oGcrW47msAty"
   },
   "outputs": [],
   "source": [
    "# Define inpute tensors\n",
    "x1 = fixed_input[3:4, :, :, :].to(device)\n",
    "x2 = fixed_input[5:6, :, :, :].to(device)\n",
    "\n",
    "# Create the latent representations\n",
    "mu, logvar = model.encode(x1)\n",
    "z1 = model.reparametrize(mu, logvar)\n",
    "mu, logvar = model.encode(x2)\n",
    "z2 = model.reparametrize(mu, logvar)\n",
    "\n",
    "interpolate = 64\n",
    "step = (z2 - z1)/interpolate\n",
    "\n",
    "\"\"\"\n",
    "Find a way to create interpolated results from the CVAE.\n",
    "\"\"\"\n",
    "Z = torch.zeros(interpolate, latent_dim).cuda()\n",
    "\n",
    "for i in range(interpolate):\n",
    "    Z[i, :] = z1 + i*step\n",
    "    \n",
    "X_hat = model.decode(Z)\n",
    "save_image(X_hat, './CVAE/inter.png')"
   ]
  }
 ],
 "metadata": {
  "accelerator": "GPU",
  "colab": {
   "collapsed_sections": [],
   "name": "LabExercise3.ipynb",
   "provenance": [],
   "version": "0.3.2"
  },
  "kernelspec": {
   "display_name": "Python 3",
   "language": "python",
   "name": "python3"
  },
  "language_info": {
   "codemirror_mode": {
    "name": "ipython",
    "version": 3
   },
   "file_extension": ".py",
   "mimetype": "text/x-python",
   "name": "python",
   "nbconvert_exporter": "python",
   "pygments_lexer": "ipython3",
   "version": "3.7.3"
  }
 },
 "nbformat": 4,
 "nbformat_minor": 1
}
